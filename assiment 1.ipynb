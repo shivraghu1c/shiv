{
 "cells": [
  {
   "cell_type": "markdown",
   "id": "88750322-8660-443f-adab-370cdafddb50",
   "metadata": {},
   "source": [
    "Q1.create one variable containing following type of data:"
   ]
  },
  {
   "cell_type": "code",
   "execution_count": null,
   "id": "bb53ebaa-0944-4c54-9107-236f000ca046",
   "metadata": {},
   "outputs": [
    {
     "data": {
      "text/plain": [
       "str"
      ]
     },
     "execution_count": 29,
     "metadata": {},
     "output_type": "execute_result"
    }
   ],
   "source": [
    "a = 'shivendra'\n",
    "type(a)"
   ]
  },
  {
   "cell_type": "code",
   "execution_count": 30,
   "id": "b55f6146-843e-4c7d-ab55-1a2d21901624",
   "metadata": {},
   "outputs": [
    {
     "data": {
      "text/plain": [
       "list"
      ]
     },
     "execution_count": 30,
     "metadata": {},
     "output_type": "execute_result"
    }
   ],
   "source": [
    "a = [ \"table\",4,88,\"shiv\" ]\n",
    "type(a)"
   ]
  },
  {
   "cell_type": "code",
   "execution_count": 31,
   "id": "90e8baed-1ddf-4377-8ea6-2bd19bdcff6e",
   "metadata": {},
   "outputs": [
    {
     "data": {
      "text/plain": [
       "float"
      ]
     },
     "execution_count": 31,
     "metadata": {},
     "output_type": "execute_result"
    }
   ],
   "source": [
    "a = 44.567\n",
    "type(a)"
   ]
  },
  {
   "cell_type": "code",
   "execution_count": 32,
   "id": "3cd57be1-9060-4b43-aad1-1ee86775f422",
   "metadata": {},
   "outputs": [
    {
     "data": {
      "text/plain": [
       "tuple"
      ]
     },
     "execution_count": 32,
     "metadata": {},
     "output_type": "execute_result"
    }
   ],
   "source": [
    "a = (\"table\",4,88,\"shiv\",55.7,\"True\")\n",
    "type(a)"
   ]
  },
  {
   "cell_type": "markdown",
   "id": "06eae1da-8f90-4ac5-b499-3052a5192671",
   "metadata": {},
   "source": [
    "Q2. Give are some following variables containing data:"
   ]
  },
  {
   "cell_type": "code",
   "execution_count": 21,
   "id": "eb122a8f-80a1-4e79-94d5-da17cc017b57",
   "metadata": {},
   "outputs": [
    {
     "data": {
      "text/plain": [
       "str"
      ]
     },
     "execution_count": 21,
     "metadata": {},
     "output_type": "execute_result"
    }
   ],
   "source": [
    "var1=''\n",
    "type(var1)"
   ]
  },
  {
   "cell_type": "code",
   "execution_count": 24,
   "id": "6d7c1301-0a40-4977-ba9b-b1c0c95cdc01",
   "metadata": {},
   "outputs": [
    {
     "data": {
      "text/plain": [
       "str"
      ]
     },
     "execution_count": 24,
     "metadata": {},
     "output_type": "execute_result"
    }
   ],
   "source": [
    "var2='[DS,ML,Python]'\n",
    "type(var2)"
   ]
  },
  {
   "cell_type": "code",
   "execution_count": 25,
   "id": "3804fbb5-930c-4b8d-9c41-b4d2e555defe",
   "metadata": {},
   "outputs": [
    {
     "data": {
      "text/plain": [
       "list"
      ]
     },
     "execution_count": 25,
     "metadata": {},
     "output_type": "execute_result"
    }
   ],
   "source": [
    "var3=[\"DS\",\"ML\",\"Python\"]\n",
    "type(var3)"
   ]
  },
  {
   "cell_type": "code",
   "execution_count": 28,
   "id": "87e708ef-dc62-43f9-a55d-1b12608b13c8",
   "metadata": {},
   "outputs": [
    {
     "data": {
      "text/plain": [
       "float"
      ]
     },
     "execution_count": 28,
     "metadata": {},
     "output_type": "execute_result"
    }
   ],
   "source": [
    "var4=1.\n",
    "type(var4)"
   ]
  },
  {
   "cell_type": "markdown",
   "id": "ab93b5cf-fdfd-44cb-9b6a-a53e58f7d457",
   "metadata": {},
   "source": [
    "Q3.Explain the use of the following operators using an example "
   ]
  },
  {
   "cell_type": "code",
   "execution_count": 46,
   "id": "a536b55a-03eb-491e-9604-c7ec0806459e",
   "metadata": {},
   "outputs": [
    {
     "name": "stdout",
     "output_type": "stream",
     "text": [
      "11.2\n",
      "1\n",
      "11\n",
      "550731776\n"
     ]
    }
   ],
   "source": [
    "a = 56\n",
    "b = 5\n",
    "\n",
    "#1Divide\n",
    "c =a/b     \n",
    "print(c)\n",
    "\n",
    "#2Gives Reminder\n",
    "d = a%b    \n",
    "print(d)\n",
    "\n",
    "#3Int divison\n",
    "e = a//b   \n",
    "print(e)\n",
    "\n",
    "#4power\n",
    "f = a**b    \n",
    "print(f)\n"
   ]
  },
  {
   "cell_type": "markdown",
   "id": "6c175b45-67c9-4e82-8efa-24067bc559f3",
   "metadata": {},
   "source": [
    "Q4.create a list of length 10 of your choice containing multiple type of data.using for loop print\n",
    "the element and its data type. "
   ]
  },
  {
   "cell_type": "code",
   "execution_count": 45,
   "id": "a630d7ed-0a44-40db-a1e7-ec0344ac2abf",
   "metadata": {},
   "outputs": [
    {
     "name": "stdout",
     "output_type": "stream",
     "text": [
      "1\n",
      "22\n",
      "44.5\n",
      "true\n",
      "True\n",
      "shiv\n",
      "table\n",
      "66\n",
      "777.9\n",
      "888.77\n"
     ]
    }
   ],
   "source": [
    "lst = [1,22,44.5,\"true\",True,'shiv',\"table\",66,777.9,888.77]\n",
    "for i in lst :\n",
    "    print(i)"
   ]
  },
  {
   "cell_type": "markdown",
   "id": "410b5944-b0bc-47d9-a4f6-a106318a56a7",
   "metadata": {},
   "source": [
    "Q5.using a while loop,verify if the number A is purely divisible by number B \n",
    "and if so then how many times it can be divisible "
   ]
  },
  {
   "cell_type": "code",
   "execution_count": null,
   "id": "07c59d5f-0853-4c0e-9d23-349a42cf9a73",
   "metadata": {},
   "outputs": [],
   "source": [
    "a = 90\n",
    "b = 3\n",
    "c = a%b\n",
    "while c:\n",
    "    count = 0\n",
    "    if c==0:\n",
    "        count+=1\n",
    "        continue\n",
    "      \n",
    "\n",
    "\n",
    "    "
   ]
  },
  {
   "cell_type": "markdown",
   "id": "5338a998-4d4d-4728-b18b-1ce3acac0191",
   "metadata": {},
   "source": [
    "Q6.create a list containing 25 int type data.using for loop and if-else \n",
    "condition print if the element is divisible by 3 or not.\n",
    "\n"
   ]
  },
  {
   "cell_type": "code",
   "execution_count": 58,
   "id": "25457461-48f7-46cd-9f71-e08760577de8",
   "metadata": {},
   "outputs": [
    {
     "name": "stdout",
     "output_type": "stream",
     "text": [
      "1 Not divisible\n",
      "25 Not divisible\n",
      "73 Not divisible\n",
      "994 Not divisible\n",
      "66 Is divisible by 3\n",
      "44 Not divisible\n",
      "77 Not divisible\n",
      "856 Not divisible\n",
      "557 Not divisible\n",
      "46 Not divisible\n",
      "78 Is divisible by 3\n",
      "22 Not divisible\n",
      "34 Not divisible\n",
      "45 Is divisible by 3\n",
      "56 Not divisible\n",
      "78 Is divisible by 3\n",
      "58 Not divisible\n",
      "97 Not divisible\n",
      "4 Not divisible\n",
      "45 Is divisible by 3\n",
      "67 Not divisible\n",
      "89 Not divisible\n",
      "345 Is divisible by 3\n",
      "55 Not divisible\n",
      "64 Not divisible\n"
     ]
    }
   ],
   "source": [
    "lst = [1,25,73,994,66,44,77,856,557,46,78,22,34,45,56,78,58,97,4,45,67,89,345,55,64]\n",
    "for i in lst :\n",
    "    if i%3==0:\n",
    "        print(i,\"Is divisible by 3\")\n",
    "    else:\n",
    "        print(i,\"Not divisible\")"
   ]
  },
  {
   "cell_type": "markdown",
   "id": "36d08eaa-98f8-4973-9734-d4d1548ad7c5",
   "metadata": {},
   "source": [
    "Q7.what do you understand about mutable and immutable data types?give \n",
    "example for both showing this property."
   ]
  },
  {
   "cell_type": "code",
   "execution_count": 61,
   "id": "850e055c-055d-42b1-99b9-e8c0d18ae012",
   "metadata": {},
   "outputs": [
    {
     "name": "stdout",
     "output_type": "stream",
     "text": [
      "[1, 22, 44.5, 'pwskill', True, 'shiv', 'table', 66, 777.9, 888.77]\n"
     ]
    },
    {
     "ename": "TypeError",
     "evalue": "'tuple' object does not support item assignment",
     "output_type": "error",
     "traceback": [
      "\u001b[0;31m---------------------------------------------------------------------------\u001b[0m",
      "\u001b[0;31mTypeError\u001b[0m                                 Traceback (most recent call last)",
      "Cell \u001b[0;32mIn[61], line 5\u001b[0m\n\u001b[1;32m      3\u001b[0m lst[\u001b[38;5;241m3\u001b[39m] \u001b[38;5;241m=\u001b[39m\u001b[38;5;124m\"\u001b[39m\u001b[38;5;124mpwskill\u001b[39m\u001b[38;5;124m\"\u001b[39m\n\u001b[1;32m      4\u001b[0m \u001b[38;5;28mprint\u001b[39m(lst)\n\u001b[0;32m----> 5\u001b[0m \u001b[43ma\u001b[49m\u001b[43m[\u001b[49m\u001b[38;5;241;43m2\u001b[39;49m\u001b[43m]\u001b[49m \u001b[38;5;241m=\u001b[39m \u001b[38;5;241m66\u001b[39m\n\u001b[1;32m      6\u001b[0m \u001b[38;5;28mprint\u001b[39m(a)\n",
      "\u001b[0;31mTypeError\u001b[0m: 'tuple' object does not support item assignment"
     ]
    }
   ],
   "source": [
    "lst = [1,22,44.5,\"true\",True,'shiv',\"table\",66,777.9,888.77]  #mutable\n",
    "a = (\"table\",4,88,\"shiv\",55.7,\"True\")     #immutable\n",
    "lst[3] =\"pwskill\"\n",
    "print(lst)\n",
    "a[2] = 66\n",
    "print(a)\n"
   ]
  },
  {
   "cell_type": "code",
   "execution_count": null,
   "id": "c70f7d47-b13f-43b1-ba9a-0cc92c1cf711",
   "metadata": {},
   "outputs": [],
   "source": []
  }
 ],
 "metadata": {
  "kernelspec": {
   "display_name": "Python 3 (ipykernel)",
   "language": "python",
   "name": "python3"
  },
  "language_info": {
   "codemirror_mode": {
    "name": "ipython",
    "version": 3
   },
   "file_extension": ".py",
   "mimetype": "text/x-python",
   "name": "python",
   "nbconvert_exporter": "python",
   "pygments_lexer": "ipython3",
   "version": "3.10.8"
  }
 },
 "nbformat": 4,
 "nbformat_minor": 5
}
